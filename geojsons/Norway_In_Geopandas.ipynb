{
 "cells": [
  {
   "cell_type": "code",
   "execution_count": 1,
   "id": "endangered-launch",
   "metadata": {},
   "outputs": [],
   "source": [
    "import pandas as pd\n",
    "import geopandas as gpd\n",
    "import matplotlib.pyplot as plt"
   ]
  },
  {
   "cell_type": "code",
   "execution_count": 2,
   "id": "reduced-lloyd",
   "metadata": {},
   "outputs": [
    {
     "data": {
      "text/html": [
       "<div>\n",
       "<style scoped>\n",
       "    .dataframe tbody tr th:only-of-type {\n",
       "        vertical-align: middle;\n",
       "    }\n",
       "\n",
       "    .dataframe tbody tr th {\n",
       "        vertical-align: top;\n",
       "    }\n",
       "\n",
       "    .dataframe thead th {\n",
       "        text-align: right;\n",
       "    }\n",
       "</style>\n",
       "<table border=\"1\" class=\"dataframe\">\n",
       "  <thead>\n",
       "    <tr style=\"text-align: right;\">\n",
       "      <th></th>\n",
       "      <th>ElSpotOmr</th>\n",
       "      <th>geometry</th>\n",
       "    </tr>\n",
       "  </thead>\n",
       "  <tbody>\n",
       "    <tr>\n",
       "      <th>0</th>\n",
       "      <td>NO 1</td>\n",
       "      <td>POLYGON ((10.67500 59.04529, 11.01052 59.00418...</td>\n",
       "    </tr>\n",
       "  </tbody>\n",
       "</table>\n",
       "</div>"
      ],
      "text/plain": [
       "  ElSpotOmr                                           geometry\n",
       "0      NO 1  POLYGON ((10.67500 59.04529, 11.01052 59.00418..."
      ]
     },
     "execution_count": 2,
     "metadata": {},
     "output_type": "execute_result"
    }
   ],
   "source": [
    "NO1 = gpd.read_file('NO1.geojson')\n",
    "NO1"
   ]
  },
  {
   "cell_type": "code",
   "execution_count": 3,
   "id": "irish-program",
   "metadata": {},
   "outputs": [
    {
     "data": {
      "text/html": [
       "<div>\n",
       "<style scoped>\n",
       "    .dataframe tbody tr th:only-of-type {\n",
       "        vertical-align: middle;\n",
       "    }\n",
       "\n",
       "    .dataframe tbody tr th {\n",
       "        vertical-align: top;\n",
       "    }\n",
       "\n",
       "    .dataframe thead th {\n",
       "        text-align: right;\n",
       "    }\n",
       "</style>\n",
       "<table border=\"1\" class=\"dataframe\">\n",
       "  <thead>\n",
       "    <tr style=\"text-align: right;\">\n",
       "      <th></th>\n",
       "      <th>CNTRY_NAME</th>\n",
       "      <th>Region</th>\n",
       "      <th>geometry</th>\n",
       "    </tr>\n",
       "  </thead>\n",
       "  <tbody>\n",
       "    <tr>\n",
       "      <th>0</th>\n",
       "      <td>Norway</td>\n",
       "      <td>NO1</td>\n",
       "      <td>POLYGON ((10.67500 59.04529, 11.01052 59.00418...</td>\n",
       "    </tr>\n",
       "    <tr>\n",
       "      <th>0</th>\n",
       "      <td>Norway</td>\n",
       "      <td>NO2</td>\n",
       "      <td>POLYGON ((7.86292 60.22268, 7.74904 60.24487, ...</td>\n",
       "    </tr>\n",
       "    <tr>\n",
       "      <th>0</th>\n",
       "      <td>Norway</td>\n",
       "      <td>NO3</td>\n",
       "      <td>POLYGON ((14.07063 64.10796, 14.09497 64.13251...</td>\n",
       "    </tr>\n",
       "    <tr>\n",
       "      <th>0</th>\n",
       "      <td>Norway</td>\n",
       "      <td>NO4</td>\n",
       "      <td>POLYGON ((31.06432 70.28916, 31.16859 70.38684...</td>\n",
       "    </tr>\n",
       "    <tr>\n",
       "      <th>0</th>\n",
       "      <td>Norway</td>\n",
       "      <td>NO5</td>\n",
       "      <td>POLYGON ((7.51391 61.72939, 7.51395 61.73025, ...</td>\n",
       "    </tr>\n",
       "  </tbody>\n",
       "</table>\n",
       "</div>"
      ],
      "text/plain": [
       "  CNTRY_NAME Region                                           geometry\n",
       "0     Norway    NO1  POLYGON ((10.67500 59.04529, 11.01052 59.00418...\n",
       "0     Norway    NO2  POLYGON ((7.86292 60.22268, 7.74904 60.24487, ...\n",
       "0     Norway    NO3  POLYGON ((14.07063 64.10796, 14.09497 64.13251...\n",
       "0     Norway    NO4  POLYGON ((31.06432 70.28916, 31.16859 70.38684...\n",
       "0     Norway    NO5  POLYGON ((7.51391 61.72939, 7.51395 61.73025, ..."
      ]
     },
     "execution_count": 3,
     "metadata": {},
     "output_type": "execute_result"
    }
   ],
   "source": [
    "NO_list = [gpd.read_file('NO'+str(i)+'.geojson') for i in range(1,6)]\n",
    "NO = pd.concat(NO_list)\n",
    "NO=NO.rename(columns={\"ElSpotOmr\": \"Region\"})\n",
    "NO['Region'] = NO['Region'].str.replace(\" \",\"\")\n",
    "NO[\"CNTRY_NAME\"]=\"Norway\"\n",
    "swapCols = [\"CNTRY_NAME\",\"Region\",\"geometry\"]\n",
    "NO=NO.reindex(columns=swapCols)\n",
    "\n",
    "NO.to_file(\"NOpriceRegions.geojson\", driver=\"GeoJSON\")\n",
    "NO"
   ]
  },
  {
   "cell_type": "code",
   "execution_count": 6,
   "id": "tutorial-antarctica",
   "metadata": {},
   "outputs": [
    {
     "name": "stderr",
     "output_type": "stream",
     "text": [
      "C:\\ProgramData\\Anaconda3\\envs\\geojsons\\lib\\site-packages\\ipykernel_launcher.py:2: MatplotlibDeprecationWarning: The 's' parameter of annotate() has been renamed 'text' since Matplotlib 3.3; support for the old name will be dropped two minor releases later.\n",
      "  \n"
     ]
    },
    {
     "data": {
      "image/png": "[encoded data removed]",
      "text/plain": [
       "<Figure size 432x288 with 1 Axes>"
      ]
     },
     "metadata": {
      "needs_background": "light"
     },
     "output_type": "display_data"
    }
   ],
   "source": [
    "ax = NO.plot(column='Region', edgecolor='white')\n",
    "NO.apply(lambda x: ax.annotate(s=x.Region, xy=x.geometry.centroid.coords[0], ha='center', size=6),axis=1);\n",
    "plt.savefig('PriceRegions', dpi=1200)"
   ]
  },
  {
   "cell_type": "code",
   "execution_count": null,
   "id": "accredited-motorcycle",
   "metadata": {},
   "outputs": [],
   "source": [
    "NO_km=NO.to_crs({'init': 'epsg:32633'})\n",
    "NO_km[\"area_km^2\"] = NO_km['geometry'].area/ 10**6\n",
    "NO_total_area=385207\n",
    "sum_of_priceareas=sum(NO_km[\"area_km^2\"])\n",
    "Area_difference=NO_total_area-sum_of_priceareas\n",
    "print(\"Area difference =\",Area_difference,\"\\nRelative error:\",\"{0:.0%}\".format(abs(Area_difference)/NO_total_area))\n",
    "NO_km"
   ]
  },
  {
   "cell_type": "code",
   "execution_count": null,
   "id": "front-victory",
   "metadata": {},
   "outputs": [],
   "source": [
    "#Counties = gpd.read_file('fylker_komprimert.json')"
   ]
  },
  {
   "cell_type": "code",
   "execution_count": null,
   "id": "honey-twelve",
   "metadata": {},
   "outputs": [],
   "source": [
    "#Counties.plot(color='red', edgecolor='white')"
   ]
  },
  {
   "cell_type": "code",
   "execution_count": null,
   "id": "modern-boost",
   "metadata": {},
   "outputs": [],
   "source": [
    "#fig, ax =plt.subplots()\n",
    "#NO.plot(ax=ax, column='ElSpotOmr')\n",
    "#Counties.plot(ax=ax, color='none', edgecolor='red')"
   ]
  },
  {
   "cell_type": "code",
   "execution_count": null,
   "id": "sexual-tournament",
   "metadata": {
    "pycharm": {
     "name": "#%%\n"
    }
   },
   "outputs": [],
   "source": [
    "NorthenEurope = gpd.read_file('custom.geo.json')\n",
    "NorthenEurope['centroid']=NorthenEurope.centroid\n",
    "NorthenEurope['geometry']"
   ]
  },
  {
   "cell_type": "code",
   "execution_count": null,
   "id": "fifth-illness",
   "metadata": {},
   "outputs": [],
   "source": [
    "fig, ax = plt.subplots()\n",
    "ax.axis=((-20,20,30,70))\n",
    "NorthenEurope.plot(ax=ax, color='red')\n",
    "NorthenEurope['centroid'].plot(ax=ax, color='black', size=5)\n"
   ]
  },
  {
   "cell_type": "code",
   "execution_count": null,
   "id": "boolean-meeting",
   "metadata": {},
   "outputs": [],
   "source": []
  }
 ],
 "metadata": {
  "kernelspec": {
   "display_name": "Python 3",
   "language": "python",
   "name": "python3"
  },
  "language_info": {
   "codemirror_mode": {
    "name": "ipython",
    "version": 3
   },
   "file_extension": ".py",
   "mimetype": "text/x-python",
   "name": "python",
   "nbconvert_exporter": "python",
   "pygments_lexer": "ipython3",
   "version": "3.7.9"
  },
  "pycharm": {
   "stem_cell": {
    "cell_type": "raw",
    "metadata": {
     "collapsed": false
    },
    "source": []
   }
  }
 },
 "nbformat": 4,
 "nbformat_minor": 5
}
