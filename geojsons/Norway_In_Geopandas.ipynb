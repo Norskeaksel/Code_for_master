{
 "cells": [
  {
   "cell_type": "code",
   "execution_count": 9,
   "id": "endangered-launch",
   "metadata": {},
   "outputs": [],
   "source": [
    "import pandas as pd\n",
    "import geopandas as gpd\n",
    "import matplotlib.pyplot as plt"
   ]
  },
  {
   "cell_type": "code",
   "execution_count": 10,
   "id": "reduced-lloyd",
   "metadata": {},
   "outputs": [
    {
     "data": {
      "text/html": [
       "<div>\n",
       "<style scoped>\n",
       "    .dataframe tbody tr th:only-of-type {\n",
       "        vertical-align: middle;\n",
       "    }\n",
       "\n",
       "    .dataframe tbody tr th {\n",
       "        vertical-align: top;\n",
       "    }\n",
       "\n",
       "    .dataframe thead th {\n",
       "        text-align: right;\n",
       "    }\n",
       "</style>\n",
       "<table border=\"1\" class=\"dataframe\">\n",
       "  <thead>\n",
       "    <tr style=\"text-align: right;\">\n",
       "      <th></th>\n",
       "      <th>ElSpotOmr</th>\n",
       "      <th>geometry</th>\n",
       "    </tr>\n",
       "  </thead>\n",
       "  <tbody>\n",
       "    <tr>\n",
       "      <th>0</th>\n",
       "      <td>NO 1</td>\n",
       "      <td>POLYGON ((10.67500 59.04529, 11.01052 59.00418...</td>\n",
       "    </tr>\n",
       "  </tbody>\n",
       "</table>\n",
       "</div>"
      ],
      "text/plain": [
       "  ElSpotOmr                                           geometry\n",
       "0      NO 1  POLYGON ((10.67500 59.04529, 11.01052 59.00418..."
      ]
     },
     "execution_count": 10,
     "metadata": {},
     "output_type": "execute_result"
    }
   ],
   "source": [
    "NO1 = gpd.read_file('NO1.geojson')\n",
    "NO1"
   ]
  },
  {
   "cell_type": "code",
   "execution_count": 11,
   "id": "irish-program",
   "metadata": {},
   "outputs": [
    {
     "data": {
      "text/html": [
       "<div>\n",
       "<style scoped>\n",
       "    .dataframe tbody tr th:only-of-type {\n",
       "        vertical-align: middle;\n",
       "    }\n",
       "\n",
       "    .dataframe tbody tr th {\n",
       "        vertical-align: top;\n",
       "    }\n",
       "\n",
       "    .dataframe thead th {\n",
       "        text-align: right;\n",
       "    }\n",
       "</style>\n",
       "<table border=\"1\" class=\"dataframe\">\n",
       "  <thead>\n",
       "    <tr style=\"text-align: right;\">\n",
       "      <th></th>\n",
       "      <th>ElSpotOmr</th>\n",
       "      <th>geometry</th>\n",
       "    </tr>\n",
       "  </thead>\n",
       "  <tbody>\n",
       "    <tr>\n",
       "      <th>0</th>\n",
       "      <td>NO 1</td>\n",
       "      <td>POLYGON ((10.67500 59.04529, 11.01052 59.00418...</td>\n",
       "    </tr>\n",
       "    <tr>\n",
       "      <th>0</th>\n",
       "      <td>NO 2</td>\n",
       "      <td>POLYGON ((7.86292 60.22268, 7.74904 60.24487, ...</td>\n",
       "    </tr>\n",
       "    <tr>\n",
       "      <th>0</th>\n",
       "      <td>NO 3</td>\n",
       "      <td>POLYGON ((14.07063 64.10796, 14.09497 64.13251...</td>\n",
       "    </tr>\n",
       "    <tr>\n",
       "      <th>0</th>\n",
       "      <td>NO 4</td>\n",
       "      <td>POLYGON ((31.06432 70.28916, 31.16859 70.38684...</td>\n",
       "    </tr>\n",
       "    <tr>\n",
       "      <th>0</th>\n",
       "      <td>NO 5</td>\n",
       "      <td>POLYGON ((7.51391 61.72939, 7.51395 61.73025, ...</td>\n",
       "    </tr>\n",
       "  </tbody>\n",
       "</table>\n",
       "</div>"
      ],
      "text/plain": [
       "  ElSpotOmr                                           geometry\n",
       "0      NO 1  POLYGON ((10.67500 59.04529, 11.01052 59.00418...\n",
       "0      NO 2  POLYGON ((7.86292 60.22268, 7.74904 60.24487, ...\n",
       "0      NO 3  POLYGON ((14.07063 64.10796, 14.09497 64.13251...\n",
       "0      NO 4  POLYGON ((31.06432 70.28916, 31.16859 70.38684...\n",
       "0      NO 5  POLYGON ((7.51391 61.72939, 7.51395 61.73025, ..."
      ]
     },
     "execution_count": 11,
     "metadata": {},
     "output_type": "execute_result"
    }
   ],
   "source": [
    "NO_list = [gpd.read_file('NO'+str(i)+'.geojson') for i in range(1,6)]\n",
    "NO = pd.concat(NO_list)\n",
    "NO"
   ]
  },
  {
   "cell_type": "code",
   "execution_count": 30,
   "id": "tutorial-antarctica",
   "metadata": {},
   "outputs": [
    {
     "data": {
      "image/png": "[encoded data removed]",
      "text/plain": [
       "<Figure size 432x288 with 1 Axes>"
      ]
     },
     "metadata": {
      "needs_background": "light"
     },
     "output_type": "display_data"
    }
   ],
   "source": [
    "NO.plot(column='ElSpotOmr', edgecolor='white')\n",
    "plt.savefig('PriceRegions', dpi=1200)"
   ]
  },
  {
   "cell_type": "code",
   "execution_count": 43,
   "id": "accredited-motorcycle",
   "metadata": {},
   "outputs": [
    {
     "name": "stdout",
     "output_type": "stream",
     "text": [
      "Area difference = -18169.54036715132 \n",
      "Relative error: 5%\n"
     ]
    },
    {
     "data": {
      "text/html": [
       "<div>\n",
       "<style scoped>\n",
       "    .dataframe tbody tr th:only-of-type {\n",
       "        vertical-align: middle;\n",
       "    }\n",
       "\n",
       "    .dataframe tbody tr th {\n",
       "        vertical-align: top;\n",
       "    }\n",
       "\n",
       "    .dataframe thead th {\n",
       "        text-align: right;\n",
       "    }\n",
       "</style>\n",
       "<table border=\"1\" class=\"dataframe\">\n",
       "  <thead>\n",
       "    <tr style=\"text-align: right;\">\n",
       "      <th></th>\n",
       "      <th>ElSpotOmr</th>\n",
       "      <th>geometry</th>\n",
       "      <th>area_km^2</th>\n",
       "    </tr>\n",
       "  </thead>\n",
       "  <tbody>\n",
       "    <tr>\n",
       "      <th>0</th>\n",
       "      <td>NO 1</td>\n",
       "      <td>POLYGON ((251956.420 6553129.530, 270910.023 6...</td>\n",
       "      <td>61139.565729</td>\n",
       "    </tr>\n",
       "    <tr>\n",
       "      <th>0</th>\n",
       "      <td>NO 2</td>\n",
       "      <td>POLYGON ((105108.439 6697599.392, 99096.308 67...</td>\n",
       "      <td>57587.081240</td>\n",
       "    </tr>\n",
       "    <tr>\n",
       "      <th>0</th>\n",
       "      <td>NO 3</td>\n",
       "      <td>POLYGON ((454719.240 7109374.910, 455943.810 7...</td>\n",
       "      <td>91413.867277</td>\n",
       "    </tr>\n",
       "    <tr>\n",
       "      <th>0</th>\n",
       "      <td>NO 4</td>\n",
       "      <td>POLYGON ((1098542.797 7877751.491, 1099464.857...</td>\n",
       "      <td>164633.230702</td>\n",
       "    </tr>\n",
       "    <tr>\n",
       "      <th>0</th>\n",
       "      <td>NO 5</td>\n",
       "      <td>POLYGON ((105048.119 6866805.383, 105061.159 6...</td>\n",
       "      <td>28602.795419</td>\n",
       "    </tr>\n",
       "  </tbody>\n",
       "</table>\n",
       "</div>"
      ],
      "text/plain": [
       "  ElSpotOmr                                           geometry      area_km^2\n",
       "0      NO 1  POLYGON ((251956.420 6553129.530, 270910.023 6...   61139.565729\n",
       "0      NO 2  POLYGON ((105108.439 6697599.392, 99096.308 67...   57587.081240\n",
       "0      NO 3  POLYGON ((454719.240 7109374.910, 455943.810 7...   91413.867277\n",
       "0      NO 4  POLYGON ((1098542.797 7877751.491, 1099464.857...  164633.230702\n",
       "0      NO 5  POLYGON ((105048.119 6866805.383, 105061.159 6...   28602.795419"
      ]
     },
     "execution_count": 43,
     "metadata": {},
     "output_type": "execute_result"
    }
   ],
   "source": [
    "NO_km=NO.to_crs({'init': 'epsg:32633'})\n",
    "NO_km[\"area_km^2\"] = NO_km['geometry'].area/ 10**6\n",
    "NO_total_area=385207\n",
    "sum_of_priceareas=sum(NO_km[\"area_km^2\"])\n",
    "Area_difference=NO_total_area-sum_of_priceareas\n",
    "print(\"Area difference =\",Area_difference,\"\\nRelative error:\",\"{0:.0%}\".format(abs(Area_difference)/NO_total_area))\n",
    "NO_km"
   ]
  },
  {
   "cell_type": "code",
   "execution_count": 13,
   "id": "front-victory",
   "metadata": {},
   "outputs": [],
   "source": [
    "Counties = gpd.read_file('fylker_komprimert.json')"
   ]
  },
  {
   "cell_type": "code",
   "execution_count": 14,
   "id": "honey-twelve",
   "metadata": {},
   "outputs": [],
   "source": [
    "#Counties.plot(color='red', edgecolor='white')"
   ]
  },
  {
   "cell_type": "code",
   "execution_count": 15,
   "id": "modern-boost",
   "metadata": {},
   "outputs": [],
   "source": [
    "#fig, ax =plt.subplots()\n",
    "#NO.plot(ax=ax, column='ElSpotOmr')\n",
    "#Counties.plot(ax=ax, color='none', edgecolor='red')"
   ]
  },
  {
   "cell_type": "code",
   "execution_count": 16,
   "id": "fifth-illness",
   "metadata": {},
   "outputs": [],
   "source": [
    "#NorthenEurope = gpd.read_file('custom.geo.json')\n",
    "#NorthenEurope.plot()\n",
    "\n",
    "\n",
    "\n",
    "\n",
    "\n",
    "\n",
    "\n",
    "\n"
   ]
  },
  {
   "cell_type": "code",
   "execution_count": null,
   "id": "boolean-meeting",
   "metadata": {},
   "outputs": [],
   "source": []
  }
 ],
 "metadata": {
  "kernelspec": {
   "display_name": "Python 3",
   "language": "python",
   "name": "python3"
  },
  "language_info": {
   "codemirror_mode": {
    "name": "ipython",
    "version": 3
   },
   "file_extension": ".py",
   "mimetype": "text/x-python",
   "name": "python",
   "nbconvert_exporter": "python",
   "pygments_lexer": "ipython3",
   "version": "3.7.9"
  }
 },
 "nbformat": 4,
 "nbformat_minor": 5
}
